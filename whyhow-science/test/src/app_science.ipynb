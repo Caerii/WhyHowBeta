{
 "cells": [
  {
   "cell_type": "code",
   "execution_count": 1,
   "metadata": {},
   "outputs": [
    {
     "name": "stdout",
     "output_type": "stream",
     "text": [
      "All required environment variables are set. Continuing with application initialization...\n"
     ]
    }
   ],
   "source": [
    "import time\n",
    "from datetime import datetime\n",
    "from dotenv import load_dotenv\n",
    "from neo4j import GraphDatabase\n",
    "from whyhow import WhyHow\n",
    "import os\n",
    "\n",
    "# Load environment variables from .env file\n",
    "load_dotenv()\n",
    "\n",
    "# Environment variables list\n",
    "required_env_vars = {\n",
    "    'WHYHOW_API_KEY': os.getenv('WHYHOW_API_KEY'),\n",
    "    'NEO4J_URL': os.getenv('NEO4J_URL'),\n",
    "    'NEO4J_USER': os.getenv('NEO4J_USER'),\n",
    "    'NEO4J_PASSWORD': os.getenv('NEO4J_PASSWORD'),\n",
    "    'OPENAI_API_KEY': os.getenv('OPENAI_API_KEY'),\n",
    "    'PINECONE_API_KEY': os.getenv('PINECONE_API_KEY')\n",
    "}\n",
    "\n",
    "# Check if all necessary environment variables are set\n",
    "missing_vars = [var for var, value in required_env_vars.items() if not value]\n",
    "if missing_vars:\n",
    "    raise Exception(f\"Missing environment variables: {', '.join(missing_vars)}\")\n",
    "\n",
    "# If all environment variables are present, continue with initialization\n",
    "print(\"All required environment variables are set. Continuing with application initialization...\")"
   ]
  },
  {
   "cell_type": "code",
   "execution_count": 3,
   "metadata": {},
   "outputs": [],
   "source": [
    "\"\"\"\n",
    "Utility functions\n",
    "\"\"\"\n",
    "\n",
    "def current_time():\n",
    "    return datetime.now().strftime(\"%Y-%m-%d %H:%M:%S\")"
   ]
  },
  {
   "cell_type": "code",
   "execution_count": 4,
   "metadata": {},
   "outputs": [
    {
     "name": "stdout",
     "output_type": "stream",
     "text": [
      "Converted ../data\\paper1.txt to ../data\\paper1.pdf\n",
      "Converted ../data\\paper2.txt to ../data\\paper2.pdf\n"
     ]
    }
   ],
   "source": [
    "\"\"\"\n",
    "Convert Text files into PDFs START\n",
    "\"\"\"\n",
    "from reportlab.lib.pagesizes import letter\n",
    "from reportlab.pdfgen import canvas\n",
    "\n",
    "def text_to_pdf(text_filename, pdf_filename):\n",
    "    # Create a canvas to write to PDF\n",
    "    c = canvas.Canvas(pdf_filename, pagesize=letter)\n",
    "    width, height = letter  # Get dimensions of the letter size\n",
    "\n",
    "    # Open text file and read lines\n",
    "    with open(text_filename, 'r') as file:\n",
    "        lines = file.readlines()\n",
    "\n",
    "    # Start writing from the top (1 inch margin)\n",
    "    y = height - 72\n",
    "    for line in lines:\n",
    "        # Draw the line and move to next line position\n",
    "        c.drawString(72, y, line.strip())\n",
    "        y -= 15  # Decrease Y coordinate to move to the next line\n",
    "\n",
    "    c.save()\n",
    "\n",
    "# Specify directory paths and filenames\n",
    "base_dir = '../data'\n",
    "text_files = ['paper1.txt', 'paper2.txt']\n",
    "\n",
    "# Loop through each text file and convert it to PDF\n",
    "for text_file in text_files:\n",
    "    text_path = os.path.join(base_dir, text_file)\n",
    "    pdf_path = os.path.join(base_dir, text_file.replace('.txt', '.pdf'))\n",
    "    text_to_pdf(text_path, pdf_path)\n",
    "    print(f\"Converted {text_path} to {pdf_path}\")"
   ]
  },
  {
   "cell_type": "code",
   "execution_count": 13,
   "metadata": {},
   "outputs": [
    {
     "name": "stdout",
     "output_type": "stream",
     "text": [
      "2024-05-08 23:07:57 - Starting the WhyHow client initialization...\n",
      "2024-05-08 23:07:57 - WhyHow client initialized in 0.41 seconds.\n",
      "2024-05-08 23:07:57 - Uploading documents to namespace 'scientific-research-test2'...\n",
      "2024-05-08 23:07:59 - Documents uploaded in 1.58 seconds. Response: Your documents are being added in the background.\n",
      "2024-05-08 23:07:59 - Creating graph from questions...\n",
      "2024-05-08 23:07:59 - Graph created in 0.66 seconds. Extracted Graph: Your graph creation has started.\n",
      "2024-05-08 23:07:59 - Waiting for 3 seconds for the graph to be created...\n",
      "2024-05-08 23:08:19 - Querying the graph...\n",
      "2024-05-08 23:08:29 - Graph queried in 9.40 seconds. Query Response: answer='No context provided.  Please add more specific information to the graph, or ask a more specific question based on the entities and relations.'\n",
      "2024-05-08 23:08:38 - Graph queried in 18.39 seconds. Query Response: answer='Philosophy of language is meant for studying the nature of language, its use, and its relation to reality.'\n",
      "2024-05-08 23:08:46 - Graph queried in 27.09 seconds. Query Response: answer='The philosophy of language is important because it helps us understand how language shapes our thoughts, communication, and perception of reality.'\n",
      "2024-05-08 23:08:55 - Graph queried in 35.68 seconds. Query Response: answer='The philosophy of language is the study of the nature and function of language, including its meaning, communication, and interpretation.'\n"
     ]
    }
   ],
   "source": [
    "def main():\n",
    "    try:\n",
    "        print(f\"{current_time()} - Starting the WhyHow client initialization...\")\n",
    "        start_time = time.time()\n",
    "        client = WhyHow(\n",
    "            api_key = os.environ.get(\"WHYHOW_API_KEY\"),\n",
    "            openai_api_key=\"sk-proj-dOdUoVNk3UKCjJSZ5j3PT3BlbkFJRf2VjqW187CaZWq8EHTi\",\n",
    "            pinecone_api_key=os.getenv(\"PINECONE_API_KEY\"),\n",
    "            neo4j_url=os.getenv(\"NEO4J_URI\"),\n",
    "            neo4j_user=os.getenv(\"NEO4J_USERNAME\"),\n",
    "            neo4j_password=os.getenv(\"NEO4J_PASSWORD\"),\n",
    "        )\n",
    "\n",
    "        initialization_time = time.time() - start_time\n",
    "        print(f\"{current_time()} - WhyHow client initialized in {initialization_time:.2f} seconds.\")\n",
    "\n",
    "        # Define namespace and specify documents\n",
    "        namespace = \"scientific-research-test2\"\n",
    "        documents = [\n",
    "            # \"../data/paper1.pdf\",\n",
    "            # \"../data/paper2.pdf\"\n",
    "            \"../data/test.pdf\"\n",
    "        ]\n",
    "\n",
    "        print(f\"{current_time()} - Uploading documents to namespace '{namespace}'...\")\n",
    "        start_time = time.time()\n",
    "        documents_response = client.graph.add_documents(namespace, documents)\n",
    "        upload_time = time.time() - start_time\n",
    "        print(f\"{current_time()} - Documents uploaded in {upload_time:.2f} seconds. Response: {documents_response}\")\n",
    "\n",
    "        # Define schema for creating the graph\n",
    "        questions = [\"For each paragraph, what is the stated hypothesis?\",\n",
    "                     \"Which ideas and their corresponding hypotheses have the most supporting results?\",\n",
    "                     \"What are the results of each section, and do they support or contradict the hypothesis?\",\n",
    "                     \"Which sections contain results that contradict their initial hypothesis?\",\n",
    "                     \"Are there any results that neither support nor contradict their stated hypotheses but offer new insights?\"\n",
    "                     ]\n",
    "        print(f\"{current_time()} - Creating graph from questions...\")\n",
    "        start_time = time.time()\n",
    "        \n",
    "        extracted_graph = client.graph.create_graph(namespace, questions)\n",
    "        graph_creation_time = time.time() - start_time\n",
    "        print(f\"{current_time()} - Graph created in {graph_creation_time:.2f} seconds. Extracted Graph: {extracted_graph}\")\n",
    "\n",
    "        sleeb_time = 20\n",
    "        print(f\"{current_time()} - Waiting for {sleeb_time} seconds for the graph to be created...\")\n",
    "        time.sleep(sleeb_time)\n",
    "\n",
    "        # Query the graph\n",
    "        query_list = [\"What\",\n",
    "                      \"What is philosophy of language meant for?\",\n",
    "                      \"Why is the philosophy of language important?\",\n",
    "                      \"What is the philosophy of language?\"]\n",
    "        print(f\"{current_time()} - Querying the graph...\")\n",
    "        start_time = time.time()\n",
    "\n",
    "        # loop through query_list and query the graph\n",
    "        for query in query_list:\n",
    "            query_response = client.graph.query_graph(namespace, query)\n",
    "            time.sleep(5)\n",
    "            query_time = time.time() - start_time\n",
    "            print(f\"{current_time()} - Graph queried in {query_time:.2f} seconds. Query Response: {query_response}\")\n",
    "\n",
    "    except Exception as e:\n",
    "        print(f\"{current_time()} - Error occurred: {str(e)}\")\n",
    "\n",
    "\n",
    "if __name__ == \"__main__\":\n",
    "    main()"
   ]
  },
  {
   "cell_type": "code",
   "execution_count": 16,
   "metadata": {},
   "outputs": [
    {
     "name": "stdout",
     "output_type": "stream",
     "text": [
      "answer='A vivid designator, according to the philosophy of language, is a term that evokes a clear mental image or idea. This concept is discussed by philosopher Saul Kripke in his work \"Naming and Necessity,\" where he argues that some names have a direct, vivid connection to their referents.'\n"
     ]
    }
   ],
   "source": [
    "client = WhyHow(\n",
    "            api_key = os.environ.get(\"WHYHOW_API_KEY\"),\n",
    "            openai_api_key=\"sk-proj-dOdUoVNk3UKCjJSZ5j3PT3BlbkFJRf2VjqW187CaZWq8EHTi\",\n",
    "            pinecone_api_key=os.getenv(\"PINECONE_API_KEY\"),\n",
    "            neo4j_url=os.getenv(\"NEO4J_URI\"),\n",
    "            neo4j_user=os.getenv(\"NEO4J_USERNAME\"),\n",
    "            neo4j_password=os.getenv(\"NEO4J_PASSWORD\"),\n",
    "        )\n",
    "\n",
    "namespace = \"scientific-research-test2\"\n",
    "# query = \"What is De Re and De Dicto Necessity?\"\n",
    "query = \"What is a vivid designator in context to the philosophy of language? Please provide supporting quotations.\"\n",
    "query_response = client.graph.query_graph(namespace, query)\n",
    "print(query_response)\n"
   ]
  },
  {
   "cell_type": "code",
   "execution_count": 11,
   "metadata": {},
   "outputs": [
    {
     "name": "stdout",
     "output_type": "stream",
     "text": [
      "answer='No context provided.  Please add more specific information to the graph, or ask a more specific question based on the entities and relations.'\n"
     ]
    }
   ],
   "source": [
    "client = WhyHow(\n",
    "            api_key = os.environ.get(\"WHYHOW_API_KEY\"),\n",
    "            openai_api_key=\"sk-proj-dOdUoVNk3UKCjJSZ5j3PT3BlbkFJRf2VjqW187CaZWq8EHTi\",\n",
    "            pinecone_api_key=os.getenv(\"PINECONE_API_KEY\"),\n",
    "            neo4j_url=os.getenv(\"NEO4J_URI\"),\n",
    "            neo4j_user=os.getenv(\"NEO4J_USERNAME\"),\n",
    "            neo4j_password=os.getenv(\"NEO4J_PASSWORD\"),\n",
    "        )\n",
    "\n",
    "namespace = \"scientific-research-test\"\n",
    "query = \"What are the results?\"\n",
    "query_response = client.graph.query_graph(namespace, query)\n",
    "print(query_response)\n"
   ]
  }
 ],
 "metadata": {
  "kernelspec": {
   "display_name": "Python 3",
   "language": "python",
   "name": "python3"
  },
  "language_info": {
   "codemirror_mode": {
    "name": "ipython",
    "version": 3
   },
   "file_extension": ".py",
   "mimetype": "text/x-python",
   "name": "python",
   "nbconvert_exporter": "python",
   "pygments_lexer": "ipython3",
   "version": "3.11.6"
  }
 },
 "nbformat": 4,
 "nbformat_minor": 2
}
